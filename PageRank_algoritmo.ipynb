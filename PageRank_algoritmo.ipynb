{
  "nbformat": 4,
  "nbformat_minor": 0,
  "metadata": {
    "colab": {
      "name": "PageRank_algoritmo.ipynb",
      "provenance": [],
      "collapsed_sections": [],
      "include_colab_link": true
    },
    "kernelspec": {
      "name": "python3",
      "display_name": "Python 3"
    },
    "language_info": {
      "name": "python"
    }
  },
  "cells": [
    {
      "cell_type": "markdown",
      "metadata": {
        "id": "view-in-github",
        "colab_type": "text"
      },
      "source": [
        "<a href=\"https://colab.research.google.com/github/Robprogram2002/PageRank_implementacion_Python/blob/main/PageRank_algoritmo.ipynb\" target=\"_parent\"><img src=\"https://colab.research.google.com/assets/colab-badge.svg\" alt=\"Open In Colab\"/></a>"
      ]
    },
    {
      "cell_type": "code",
      "execution_count": 1,
      "metadata": {
        "id": "HYKF9mxRwbUL"
      },
      "outputs": [],
      "source": [
        "# Importamos las librerias necesarias\n",
        "\n",
        "import numpy as np  # librería para trabjar con matrices y vectores\n",
        "import networkx as nx  # librería para crear y usar grafos \n",
        "import pandas as pd   # librería para organizar datos"
      ]
    },
    {
      "cell_type": "code",
      "source": [
        "def getRank(tr_mat,N, treshold):\n",
        "  \"\"\"\n",
        "  Calula el estado estacionario de la matrix de transición recibida partiendo de\n",
        "  una distribución uniforme.\n",
        "\n",
        "  Parametros\n",
        "    tr_mat: Matriz de transición de tamaño NxN\n",
        "    N: número de distintos estados (nodos)\n",
        "    treshold: distancia minima entre un paso y el siguiente, condición para \n",
        "    detener el proceso\n",
        "  \n",
        "  Returms\n",
        "    Una lista con los valores del estado estacionario de la matriz de transición\n",
        "  \"\"\"\n",
        "  # Se crea la distribución inicial uniforme\n",
        "  pi_0 = np.array([1/N for i in range(N)])\n",
        "  # se registra la última distribución calculada \n",
        "  pi_last = pi_0\n",
        "  # se calcula la distribución del instante posterior al inicial\n",
        "  pi_next = np.matmul(pi_0, tr_mat)\n",
        "\n",
        "  # de forma iterativa se calcula la distribución para instantes posteriores\n",
        "  # y se detiene el proceso cuando se considere que la convergencia ha ocurrido\n",
        "  while np.linalg.norm(pi_next-pi_last) > treshold:\n",
        "    pi_last = pi_next\n",
        "    pi_next = np.matmul(pi_last, tr_mat)\n",
        "  \n",
        "  # Se devuelve la distribución invariante\n",
        "  return pi_next\n",
        "\n",
        "def pageRank(links, graph = None, threshold = 0.1, alpha = 0.15): \n",
        "  \"\"\"\n",
        "  Parametros\n",
        "    links: lista de tuplas con las relaciones entre las paginas\n",
        "    treshold: distancia minima entre un paso y el siguiente, condición para \n",
        "    detener el algoritmo\n",
        "    alpha: \n",
        "\n",
        "  Returns\n",
        "    Un diccionario con tres objetos: las paginas ordenadas según su ranking, \n",
        "    la matriz de transición y el grafo construido a partir de las relaciones \n",
        "    entre las paginas\n",
        "  \"\"\"\n",
        "  \n",
        "  # Si se recibe una lista con las relaciones entonces se crea un grafo con ella\n",
        "  if graph is None:\n",
        "    G = nx.DiGraph()\n",
        "    G.add_edges_from(links)\n",
        "  # si se recive el grafo ya creado, entonces solo se asigna a la variable G\n",
        "  else:\n",
        "    G = graph\n",
        "  \n",
        "  # almacenamos una lista con todos los estados \n",
        "  nodes = list(G.nodes)\n",
        "  N = len(nodes)\n",
        "  # luego se crea una matriz de N*N donde cada entrada es igual a 0\n",
        "  P = np.zeros((N,N))\n",
        "\n",
        "  # se itera sobre cada nodo en el grafo y se obtiene una lista con los \n",
        "  # elementos relacionados. Con esta información se actualiza el valor de \n",
        "  # cada entrada en la matriz P \n",
        "  for i in range(N):\n",
        "    nbrs = list(G.neighbors(nodes[i]))\n",
        "    n = len(nbrs)\n",
        "    for j in range(N):\n",
        "      if nodes[j] in nbrs:\n",
        "        P[i][j] = 1 / n\n",
        "      else:\n",
        "        P[i][j] = 0\n",
        "\n",
        "  # se modifica la matriz de transición P para que la cadena de Markov asociada\n",
        "  # sea aperiodica e irreducible\n",
        "  P = (1-alpha)*P + (alpha / N)*np.ones((N,N))\n",
        "   \n",
        "  # se calcula la distribución invariante \n",
        "  stationary = getRank(P, N, threshold)\n",
        "\n",
        "  # fianlmente se devuelve un diccionario con la información creada por el algoritmo\n",
        "  return {\n",
        "      # lista con los estados ordenados según su importancia de forma descendiente\n",
        "      'ranking': pd.Series(stationary, index = nodes).sort_values(ascending=False),\n",
        "      # matriz de transición usada para obtener la distribución invariante\n",
        "      'matrix': pd.DataFrame(P, nodes, nodes),\n",
        "      # grafo construido a partir de las relaciones entre las paginas\n",
        "      'graph': G\n",
        "  }"
      ],
      "metadata": {
        "id": "d2ucBvWywrVI"
      },
      "execution_count": null,
      "outputs": []
    },
    {
      "cell_type": "markdown",
      "source": [
        "Ejemplo 1"
      ],
      "metadata": {
        "id": "629OsgQWlUKj"
      }
    },
    {
      "cell_type": "code",
      "source": [
        "edges = [('PageA', 'PageD'), ('PageD', 'PageB'), ('PageC', 'PageA'), ('PageB', 'PageC') ,('PageC', 'PageB') , ('PageC', 'PageD')]\n",
        "result1 = pageRank(edges, alpha=0)\n",
        "result1['ranking']"
      ],
      "metadata": {
        "colab": {
          "base_uri": "https://localhost:8080/"
        },
        "id": "emFNV08NnbzI",
        "outputId": "e0e6deb7-ccf7-4c73-e243-3b89f93d01e1"
      },
      "execution_count": null,
      "outputs": [
        {
          "output_type": "execute_result",
          "data": {
            "text/plain": [
              "PageB    0.342593\n",
              "PageC    0.333333\n",
              "PageD    0.231481\n",
              "PageA    0.092593\n",
              "dtype: float64"
            ]
          },
          "metadata": {},
          "execution_count": 3
        }
      ]
    },
    {
      "cell_type": "code",
      "source": [
        "result1['matrix']"
      ],
      "metadata": {
        "colab": {
          "base_uri": "https://localhost:8080/",
          "height": 175
        },
        "id": "-zwOlPNspEl0",
        "outputId": "326531ff-0f88-4c72-cdc7-6050ddb34b92"
      },
      "execution_count": null,
      "outputs": [
        {
          "output_type": "execute_result",
          "data": {
            "text/plain": [
              "          PageA     PageD     PageB  PageC\n",
              "PageA  0.000000  1.000000  0.000000    0.0\n",
              "PageD  0.000000  0.000000  1.000000    0.0\n",
              "PageB  0.000000  0.000000  0.000000    1.0\n",
              "PageC  0.333333  0.333333  0.333333    0.0"
            ],
            "text/html": [
              "\n",
              "  <div id=\"df-8cf9f15f-0665-4e30-8e26-b3346bf721fd\">\n",
              "    <div class=\"colab-df-container\">\n",
              "      <div>\n",
              "<style scoped>\n",
              "    .dataframe tbody tr th:only-of-type {\n",
              "        vertical-align: middle;\n",
              "    }\n",
              "\n",
              "    .dataframe tbody tr th {\n",
              "        vertical-align: top;\n",
              "    }\n",
              "\n",
              "    .dataframe thead th {\n",
              "        text-align: right;\n",
              "    }\n",
              "</style>\n",
              "<table border=\"1\" class=\"dataframe\">\n",
              "  <thead>\n",
              "    <tr style=\"text-align: right;\">\n",
              "      <th></th>\n",
              "      <th>PageA</th>\n",
              "      <th>PageD</th>\n",
              "      <th>PageB</th>\n",
              "      <th>PageC</th>\n",
              "    </tr>\n",
              "  </thead>\n",
              "  <tbody>\n",
              "    <tr>\n",
              "      <th>PageA</th>\n",
              "      <td>0.000000</td>\n",
              "      <td>1.000000</td>\n",
              "      <td>0.000000</td>\n",
              "      <td>0.0</td>\n",
              "    </tr>\n",
              "    <tr>\n",
              "      <th>PageD</th>\n",
              "      <td>0.000000</td>\n",
              "      <td>0.000000</td>\n",
              "      <td>1.000000</td>\n",
              "      <td>0.0</td>\n",
              "    </tr>\n",
              "    <tr>\n",
              "      <th>PageB</th>\n",
              "      <td>0.000000</td>\n",
              "      <td>0.000000</td>\n",
              "      <td>0.000000</td>\n",
              "      <td>1.0</td>\n",
              "    </tr>\n",
              "    <tr>\n",
              "      <th>PageC</th>\n",
              "      <td>0.333333</td>\n",
              "      <td>0.333333</td>\n",
              "      <td>0.333333</td>\n",
              "      <td>0.0</td>\n",
              "    </tr>\n",
              "  </tbody>\n",
              "</table>\n",
              "</div>\n",
              "      <button class=\"colab-df-convert\" onclick=\"convertToInteractive('df-8cf9f15f-0665-4e30-8e26-b3346bf721fd')\"\n",
              "              title=\"Convert this dataframe to an interactive table.\"\n",
              "              style=\"display:none;\">\n",
              "        \n",
              "  <svg xmlns=\"http://www.w3.org/2000/svg\" height=\"24px\"viewBox=\"0 0 24 24\"\n",
              "       width=\"24px\">\n",
              "    <path d=\"M0 0h24v24H0V0z\" fill=\"none\"/>\n",
              "    <path d=\"M18.56 5.44l.94 2.06.94-2.06 2.06-.94-2.06-.94-.94-2.06-.94 2.06-2.06.94zm-11 1L8.5 8.5l.94-2.06 2.06-.94-2.06-.94L8.5 2.5l-.94 2.06-2.06.94zm10 10l.94 2.06.94-2.06 2.06-.94-2.06-.94-.94-2.06-.94 2.06-2.06.94z\"/><path d=\"M17.41 7.96l-1.37-1.37c-.4-.4-.92-.59-1.43-.59-.52 0-1.04.2-1.43.59L10.3 9.45l-7.72 7.72c-.78.78-.78 2.05 0 2.83L4 21.41c.39.39.9.59 1.41.59.51 0 1.02-.2 1.41-.59l7.78-7.78 2.81-2.81c.8-.78.8-2.07 0-2.86zM5.41 20L4 18.59l7.72-7.72 1.47 1.35L5.41 20z\"/>\n",
              "  </svg>\n",
              "      </button>\n",
              "      \n",
              "  <style>\n",
              "    .colab-df-container {\n",
              "      display:flex;\n",
              "      flex-wrap:wrap;\n",
              "      gap: 12px;\n",
              "    }\n",
              "\n",
              "    .colab-df-convert {\n",
              "      background-color: #E8F0FE;\n",
              "      border: none;\n",
              "      border-radius: 50%;\n",
              "      cursor: pointer;\n",
              "      display: none;\n",
              "      fill: #1967D2;\n",
              "      height: 32px;\n",
              "      padding: 0 0 0 0;\n",
              "      width: 32px;\n",
              "    }\n",
              "\n",
              "    .colab-df-convert:hover {\n",
              "      background-color: #E2EBFA;\n",
              "      box-shadow: 0px 1px 2px rgba(60, 64, 67, 0.3), 0px 1px 3px 1px rgba(60, 64, 67, 0.15);\n",
              "      fill: #174EA6;\n",
              "    }\n",
              "\n",
              "    [theme=dark] .colab-df-convert {\n",
              "      background-color: #3B4455;\n",
              "      fill: #D2E3FC;\n",
              "    }\n",
              "\n",
              "    [theme=dark] .colab-df-convert:hover {\n",
              "      background-color: #434B5C;\n",
              "      box-shadow: 0px 1px 3px 1px rgba(0, 0, 0, 0.15);\n",
              "      filter: drop-shadow(0px 1px 2px rgba(0, 0, 0, 0.3));\n",
              "      fill: #FFFFFF;\n",
              "    }\n",
              "  </style>\n",
              "\n",
              "      <script>\n",
              "        const buttonEl =\n",
              "          document.querySelector('#df-8cf9f15f-0665-4e30-8e26-b3346bf721fd button.colab-df-convert');\n",
              "        buttonEl.style.display =\n",
              "          google.colab.kernel.accessAllowed ? 'block' : 'none';\n",
              "\n",
              "        async function convertToInteractive(key) {\n",
              "          const element = document.querySelector('#df-8cf9f15f-0665-4e30-8e26-b3346bf721fd');\n",
              "          const dataTable =\n",
              "            await google.colab.kernel.invokeFunction('convertToInteractive',\n",
              "                                                     [key], {});\n",
              "          if (!dataTable) return;\n",
              "\n",
              "          const docLinkHtml = 'Like what you see? Visit the ' +\n",
              "            '<a target=\"_blank\" href=https://colab.research.google.com/notebooks/data_table.ipynb>data table notebook</a>'\n",
              "            + ' to learn more about interactive tables.';\n",
              "          element.innerHTML = '';\n",
              "          dataTable['output_type'] = 'display_data';\n",
              "          await google.colab.output.renderOutput(dataTable, element);\n",
              "          const docLink = document.createElement('div');\n",
              "          docLink.innerHTML = docLinkHtml;\n",
              "          element.appendChild(docLink);\n",
              "        }\n",
              "      </script>\n",
              "    </div>\n",
              "  </div>\n",
              "  "
            ]
          },
          "metadata": {},
          "execution_count": 4
        }
      ]
    },
    {
      "cell_type": "code",
      "source": [
        "nx.draw(result1['graph'], with_labels= True)"
      ],
      "metadata": {
        "colab": {
          "base_uri": "https://localhost:8080/",
          "height": 319
        },
        "id": "A4ZtV9xutXoL",
        "outputId": "255a3621-8c85-4125-e806-80873bcb5fc9"
      },
      "execution_count": null,
      "outputs": [
        {
          "output_type": "display_data",
          "data": {
            "text/plain": [
              "<Figure size 432x288 with 1 Axes>"
            ],
            "image/png": "[encoded data removed]"
          },
          "metadata": {}
        }
      ]
    },
    {
      "cell_type": "markdown",
      "source": [
        "Example 2"
      ],
      "metadata": {
        "id": "eO8pngN7lbGO"
      }
    },
    {
      "cell_type": "code",
      "source": [
        "edges2 = [('PageA', 'PageB'), ('PageA', 'PageD'), ('PageB', 'PageC'), ('PageC', 'PageB'), ('PageC', 'PageA'), ('PageC', 'PageD'), ('PageD', 'PageC')]\n",
        "result2 = pageRank(edges2, 0.001, 0)\n",
        "result2['matrix']"
      ],
      "metadata": {
        "colab": {
          "base_uri": "https://localhost:8080/",
          "height": 175
        },
        "id": "xpYY4wBSpQlf",
        "outputId": "ea195244-cdd0-4a6f-e53d-82d424533ce3"
      },
      "execution_count": null,
      "outputs": [
        {
          "output_type": "execute_result",
          "data": {
            "text/plain": [
              "          PageA     PageB     PageD  PageC\n",
              "PageA  0.000000  0.500000  0.500000    0.0\n",
              "PageB  0.000000  0.000000  0.000000    1.0\n",
              "PageD  0.000000  0.000000  0.000000    1.0\n",
              "PageC  0.333333  0.333333  0.333333    0.0"
            ],
            "text/html": [
              "\n",
              "  <div id=\"df-597e43e2-6c1c-4380-a56d-71311b722cbc\">\n",
              "    <div class=\"colab-df-container\">\n",
              "      <div>\n",
              "<style scoped>\n",
              "    .dataframe tbody tr th:only-of-type {\n",
              "        vertical-align: middle;\n",
              "    }\n",
              "\n",
              "    .dataframe tbody tr th {\n",
              "        vertical-align: top;\n",
              "    }\n",
              "\n",
              "    .dataframe thead th {\n",
              "        text-align: right;\n",
              "    }\n",
              "</style>\n",
              "<table border=\"1\" class=\"dataframe\">\n",
              "  <thead>\n",
              "    <tr style=\"text-align: right;\">\n",
              "      <th></th>\n",
              "      <th>PageA</th>\n",
              "      <th>PageB</th>\n",
              "      <th>PageD</th>\n",
              "      <th>PageC</th>\n",
              "    </tr>\n",
              "  </thead>\n",
              "  <tbody>\n",
              "    <tr>\n",
              "      <th>PageA</th>\n",
              "      <td>0.000000</td>\n",
              "      <td>0.500000</td>\n",
              "      <td>0.500000</td>\n",
              "      <td>0.0</td>\n",
              "    </tr>\n",
              "    <tr>\n",
              "      <th>PageB</th>\n",
              "      <td>0.000000</td>\n",
              "      <td>0.000000</td>\n",
              "      <td>0.000000</td>\n",
              "      <td>1.0</td>\n",
              "    </tr>\n",
              "    <tr>\n",
              "      <th>PageD</th>\n",
              "      <td>0.000000</td>\n",
              "      <td>0.000000</td>\n",
              "      <td>0.000000</td>\n",
              "      <td>1.0</td>\n",
              "    </tr>\n",
              "    <tr>\n",
              "      <th>PageC</th>\n",
              "      <td>0.333333</td>\n",
              "      <td>0.333333</td>\n",
              "      <td>0.333333</td>\n",
              "      <td>0.0</td>\n",
              "    </tr>\n",
              "  </tbody>\n",
              "</table>\n",
              "</div>\n",
              "      <button class=\"colab-df-convert\" onclick=\"convertToInteractive('df-597e43e2-6c1c-4380-a56d-71311b722cbc')\"\n",
              "              title=\"Convert this dataframe to an interactive table.\"\n",
              "              style=\"display:none;\">\n",
              "        \n",
              "  <svg xmlns=\"http://www.w3.org/2000/svg\" height=\"24px\"viewBox=\"0 0 24 24\"\n",
              "       width=\"24px\">\n",
              "    <path d=\"M0 0h24v24H0V0z\" fill=\"none\"/>\n",
              "    <path d=\"M18.56 5.44l.94 2.06.94-2.06 2.06-.94-2.06-.94-.94-2.06-.94 2.06-2.06.94zm-11 1L8.5 8.5l.94-2.06 2.06-.94-2.06-.94L8.5 2.5l-.94 2.06-2.06.94zm10 10l.94 2.06.94-2.06 2.06-.94-2.06-.94-.94-2.06-.94 2.06-2.06.94z\"/><path d=\"M17.41 7.96l-1.37-1.37c-.4-.4-.92-.59-1.43-.59-.52 0-1.04.2-1.43.59L10.3 9.45l-7.72 7.72c-.78.78-.78 2.05 0 2.83L4 21.41c.39.39.9.59 1.41.59.51 0 1.02-.2 1.41-.59l7.78-7.78 2.81-2.81c.8-.78.8-2.07 0-2.86zM5.41 20L4 18.59l7.72-7.72 1.47 1.35L5.41 20z\"/>\n",
              "  </svg>\n",
              "      </button>\n",
              "      \n",
              "  <style>\n",
              "    .colab-df-container {\n",
              "      display:flex;\n",
              "      flex-wrap:wrap;\n",
              "      gap: 12px;\n",
              "    }\n",
              "\n",
              "    .colab-df-convert {\n",
              "      background-color: #E8F0FE;\n",
              "      border: none;\n",
              "      border-radius: 50%;\n",
              "      cursor: pointer;\n",
              "      display: none;\n",
              "      fill: #1967D2;\n",
              "      height: 32px;\n",
              "      padding: 0 0 0 0;\n",
              "      width: 32px;\n",
              "    }\n",
              "\n",
              "    .colab-df-convert:hover {\n",
              "      background-color: #E2EBFA;\n",
              "      box-shadow: 0px 1px 2px rgba(60, 64, 67, 0.3), 0px 1px 3px 1px rgba(60, 64, 67, 0.15);\n",
              "      fill: #174EA6;\n",
              "    }\n",
              "\n",
              "    [theme=dark] .colab-df-convert {\n",
              "      background-color: #3B4455;\n",
              "      fill: #D2E3FC;\n",
              "    }\n",
              "\n",
              "    [theme=dark] .colab-df-convert:hover {\n",
              "      background-color: #434B5C;\n",
              "      box-shadow: 0px 1px 3px 1px rgba(0, 0, 0, 0.15);\n",
              "      filter: drop-shadow(0px 1px 2px rgba(0, 0, 0, 0.3));\n",
              "      fill: #FFFFFF;\n",
              "    }\n",
              "  </style>\n",
              "\n",
              "      <script>\n",
              "        const buttonEl =\n",
              "          document.querySelector('#df-597e43e2-6c1c-4380-a56d-71311b722cbc button.colab-df-convert');\n",
              "        buttonEl.style.display =\n",
              "          google.colab.kernel.accessAllowed ? 'block' : 'none';\n",
              "\n",
              "        async function convertToInteractive(key) {\n",
              "          const element = document.querySelector('#df-597e43e2-6c1c-4380-a56d-71311b722cbc');\n",
              "          const dataTable =\n",
              "            await google.colab.kernel.invokeFunction('convertToInteractive',\n",
              "                                                     [key], {});\n",
              "          if (!dataTable) return;\n",
              "\n",
              "          const docLinkHtml = 'Like what you see? Visit the ' +\n",
              "            '<a target=\"_blank\" href=https://colab.research.google.com/notebooks/data_table.ipynb>data table notebook</a>'\n",
              "            + ' to learn more about interactive tables.';\n",
              "          element.innerHTML = '';\n",
              "          dataTable['output_type'] = 'display_data';\n",
              "          await google.colab.output.renderOutput(dataTable, element);\n",
              "          const docLink = document.createElement('div');\n",
              "          docLink.innerHTML = docLinkHtml;\n",
              "          element.appendChild(docLink);\n",
              "        }\n",
              "      </script>\n",
              "    </div>\n",
              "  </div>\n",
              "  "
            ]
          },
          "metadata": {},
          "execution_count": 6
        }
      ]
    },
    {
      "cell_type": "code",
      "source": [
        "result2['ranking']"
      ],
      "metadata": {
        "colab": {
          "base_uri": "https://localhost:8080/"
        },
        "id": "mY1wjUScpzxi",
        "outputId": "c38db0b1-fa78-4e9c-fbac-4ab3ec527819"
      },
      "execution_count": null,
      "outputs": [
        {
          "output_type": "execute_result",
          "data": {
            "text/plain": [
              "PageC    0.428326\n",
              "PageB    0.214335\n",
              "PageD    0.214335\n",
              "PageA    0.143004\n",
              "dtype: float64"
            ]
          },
          "metadata": {},
          "execution_count": 7
        }
      ]
    },
    {
      "cell_type": "code",
      "source": [
        "nx.draw(result2['graph'], with_labels=True)"
      ],
      "metadata": {
        "colab": {
          "base_uri": "https://localhost:8080/",
          "height": 319
        },
        "id": "eNuqKPT2qCzo",
        "outputId": "16a10df5-ba01-4490-f368-3952fefe61f9"
      },
      "execution_count": null,
      "outputs": [
        {
          "output_type": "display_data",
          "data": {
            "text/plain": [
              "<Figure size 432x288 with 1 Axes>"
            ],
            "image/png": "[encoded data removed]"
          },
          "metadata": {}
        }
      ]
    },
    {
      "cell_type": "markdown",
      "source": [
        "Example 3"
      ],
      "metadata": {
        "id": "cXcPQYAur522"
      }
    },
    {
      "cell_type": "code",
      "source": [
        "edges3 = [(\"PageA\", \"PageB\"), (\"PageB\", \"PageA\"), (\"PageC\", \"PageB\"), (\"PageC\", \"PageD\"), (\"PageD\", \"PageC\"), (\"PageD\", \"PageA\")]\n",
        "result3 = pageRank(edges3, 0.01)\n",
        "result3['matrix']"
      ],
      "metadata": {
        "colab": {
          "base_uri": "https://localhost:8080/",
          "height": 175
        },
        "id": "Fs_Cr7Ekr6yo",
        "outputId": "32c45098-bb91-40ab-906e-1cc8c8426aea"
      },
      "execution_count": null,
      "outputs": [
        {
          "output_type": "execute_result",
          "data": {
            "text/plain": [
              "        PageA   PageB   PageC   PageD\n",
              "PageA  0.0375  0.8875  0.0375  0.0375\n",
              "PageB  0.8875  0.0375  0.0375  0.0375\n",
              "PageC  0.0375  0.4625  0.0375  0.4625\n",
              "PageD  0.4625  0.0375  0.4625  0.0375"
            ],
            "text/html": [
              "\n",
              "  <div id=\"df-ab10061e-7514-487f-9c2f-dadf5c7c77ac\">\n",
              "    <div class=\"colab-df-container\">\n",
              "      <div>\n",
              "<style scoped>\n",
              "    .dataframe tbody tr th:only-of-type {\n",
              "        vertical-align: middle;\n",
              "    }\n",
              "\n",
              "    .dataframe tbody tr th {\n",
              "        vertical-align: top;\n",
              "    }\n",
              "\n",
              "    .dataframe thead th {\n",
              "        text-align: right;\n",
              "    }\n",
              "</style>\n",
              "<table border=\"1\" class=\"dataframe\">\n",
              "  <thead>\n",
              "    <tr style=\"text-align: right;\">\n",
              "      <th></th>\n",
              "      <th>PageA</th>\n",
              "      <th>PageB</th>\n",
              "      <th>PageC</th>\n",
              "      <th>PageD</th>\n",
              "    </tr>\n",
              "  </thead>\n",
              "  <tbody>\n",
              "    <tr>\n",
              "      <th>PageA</th>\n",
              "      <td>0.0375</td>\n",
              "      <td>0.8875</td>\n",
              "      <td>0.0375</td>\n",
              "      <td>0.0375</td>\n",
              "    </tr>\n",
              "    <tr>\n",
              "      <th>PageB</th>\n",
              "      <td>0.8875</td>\n",
              "      <td>0.0375</td>\n",
              "      <td>0.0375</td>\n",
              "      <td>0.0375</td>\n",
              "    </tr>\n",
              "    <tr>\n",
              "      <th>PageC</th>\n",
              "      <td>0.0375</td>\n",
              "      <td>0.4625</td>\n",
              "      <td>0.0375</td>\n",
              "      <td>0.4625</td>\n",
              "    </tr>\n",
              "    <tr>\n",
              "      <th>PageD</th>\n",
              "      <td>0.4625</td>\n",
              "      <td>0.0375</td>\n",
              "      <td>0.4625</td>\n",
              "      <td>0.0375</td>\n",
              "    </tr>\n",
              "  </tbody>\n",
              "</table>\n",
              "</div>\n",
              "      <button class=\"colab-df-convert\" onclick=\"convertToInteractive('df-ab10061e-7514-487f-9c2f-dadf5c7c77ac')\"\n",
              "              title=\"Convert this dataframe to an interactive table.\"\n",
              "              style=\"display:none;\">\n",
              "        \n",
              "  <svg xmlns=\"http://www.w3.org/2000/svg\" height=\"24px\"viewBox=\"0 0 24 24\"\n",
              "       width=\"24px\">\n",
              "    <path d=\"M0 0h24v24H0V0z\" fill=\"none\"/>\n",
              "    <path d=\"M18.56 5.44l.94 2.06.94-2.06 2.06-.94-2.06-.94-.94-2.06-.94 2.06-2.06.94zm-11 1L8.5 8.5l.94-2.06 2.06-.94-2.06-.94L8.5 2.5l-.94 2.06-2.06.94zm10 10l.94 2.06.94-2.06 2.06-.94-2.06-.94-.94-2.06-.94 2.06-2.06.94z\"/><path d=\"M17.41 7.96l-1.37-1.37c-.4-.4-.92-.59-1.43-.59-.52 0-1.04.2-1.43.59L10.3 9.45l-7.72 7.72c-.78.78-.78 2.05 0 2.83L4 21.41c.39.39.9.59 1.41.59.51 0 1.02-.2 1.41-.59l7.78-7.78 2.81-2.81c.8-.78.8-2.07 0-2.86zM5.41 20L4 18.59l7.72-7.72 1.47 1.35L5.41 20z\"/>\n",
              "  </svg>\n",
              "      </button>\n",
              "      \n",
              "  <style>\n",
              "    .colab-df-container {\n",
              "      display:flex;\n",
              "      flex-wrap:wrap;\n",
              "      gap: 12px;\n",
              "    }\n",
              "\n",
              "    .colab-df-convert {\n",
              "      background-color: #E8F0FE;\n",
              "      border: none;\n",
              "      border-radius: 50%;\n",
              "      cursor: pointer;\n",
              "      display: none;\n",
              "      fill: #1967D2;\n",
              "      height: 32px;\n",
              "      padding: 0 0 0 0;\n",
              "      width: 32px;\n",
              "    }\n",
              "\n",
              "    .colab-df-convert:hover {\n",
              "      background-color: #E2EBFA;\n",
              "      box-shadow: 0px 1px 2px rgba(60, 64, 67, 0.3), 0px 1px 3px 1px rgba(60, 64, 67, 0.15);\n",
              "      fill: #174EA6;\n",
              "    }\n",
              "\n",
              "    [theme=dark] .colab-df-convert {\n",
              "      background-color: #3B4455;\n",
              "      fill: #D2E3FC;\n",
              "    }\n",
              "\n",
              "    [theme=dark] .colab-df-convert:hover {\n",
              "      background-color: #434B5C;\n",
              "      box-shadow: 0px 1px 3px 1px rgba(0, 0, 0, 0.15);\n",
              "      filter: drop-shadow(0px 1px 2px rgba(0, 0, 0, 0.3));\n",
              "      fill: #FFFFFF;\n",
              "    }\n",
              "  </style>\n",
              "\n",
              "      <script>\n",
              "        const buttonEl =\n",
              "          document.querySelector('#df-ab10061e-7514-487f-9c2f-dadf5c7c77ac button.colab-df-convert');\n",
              "        buttonEl.style.display =\n",
              "          google.colab.kernel.accessAllowed ? 'block' : 'none';\n",
              "\n",
              "        async function convertToInteractive(key) {\n",
              "          const element = document.querySelector('#df-ab10061e-7514-487f-9c2f-dadf5c7c77ac');\n",
              "          const dataTable =\n",
              "            await google.colab.kernel.invokeFunction('convertToInteractive',\n",
              "                                                     [key], {});\n",
              "          if (!dataTable) return;\n",
              "\n",
              "          const docLinkHtml = 'Like what you see? Visit the ' +\n",
              "            '<a target=\"_blank\" href=https://colab.research.google.com/notebooks/data_table.ipynb>data table notebook</a>'\n",
              "            + ' to learn more about interactive tables.';\n",
              "          element.innerHTML = '';\n",
              "          dataTable['output_type'] = 'display_data';\n",
              "          await google.colab.output.renderOutput(dataTable, element);\n",
              "          const docLink = document.createElement('div');\n",
              "          docLink.innerHTML = docLinkHtml;\n",
              "          element.appendChild(docLink);\n",
              "        }\n",
              "      </script>\n",
              "    </div>\n",
              "  </div>\n",
              "  "
            ]
          },
          "metadata": {},
          "execution_count": 13
        }
      ]
    },
    {
      "cell_type": "code",
      "source": [
        "result3['ranking']"
      ],
      "metadata": {
        "colab": {
          "base_uri": "https://localhost:8080/"
        },
        "id": "_igwK4GKsZB7",
        "outputId": "28255d3d-0548-48f5-b01f-00b6f0d1a2ff"
      },
      "execution_count": null,
      "outputs": [
        {
          "output_type": "execute_result",
          "data": {
            "text/plain": [
              "PageA    0.43222\n",
              "PageB    0.43222\n",
              "PageC    0.06778\n",
              "PageD    0.06778\n",
              "dtype: float64"
            ]
          },
          "metadata": {},
          "execution_count": 14
        }
      ]
    },
    {
      "cell_type": "code",
      "source": [
        "nx.draw(result3['graph'], with_labels=True)"
      ],
      "metadata": {
        "colab": {
          "base_uri": "https://localhost:8080/",
          "height": 319
        },
        "id": "DDeIktuRsfpp",
        "outputId": "adb546fd-aa24-446f-b21e-abbd6b1efc27"
      },
      "execution_count": null,
      "outputs": [
        {
          "output_type": "display_data",
          "data": {
            "text/plain": [
              "<Figure size 432x288 with 1 Axes>"
            ],
            "image/png": "[encoded data removed]"
          },
          "metadata": {}
        }
      ]
    },
    {
      "cell_type": "code",
      "source": [
        ""
      ],
      "metadata": {
        "id": "7pzKUTF5r4cU"
      },
      "execution_count": null,
      "outputs": []
    }
  ]
}