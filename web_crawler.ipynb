{
  "nbformat": 4,
  "nbformat_minor": 0,
  "metadata": {
    "colab": {
      "name": "web_crawler.ipynb",
      "provenance": [],
      "collapsed_sections": [],
      "authorship_tag": "ABX9TyN1fy7ok2dFeEP8Oe75aX4G",
      "include_colab_link": true
    },
    "kernelspec": {
      "name": "python3",
      "display_name": "Python 3"
    },
    "language_info": {
      "name": "python"
    }
  },
  "cells": [
    {
      "cell_type": "markdown",
      "metadata": {
        "id": "view-in-github",
        "colab_type": "text"
      },
      "source": [
        "<a href=\"https://colab.research.google.com/github/Robprogram2002/PageRank_implementacion_Python/blob/main/web_crawler.ipynb\" target=\"_parent\"><img src=\"https://colab.research.google.com/assets/colab-badge.svg\" alt=\"Open In Colab\"/></a>"
      ]
    },
    {
      "cell_type": "code",
      "execution_count": 1,
      "metadata": {
        "id": "-eYjNjNLy5aO"
      },
      "outputs": [],
      "source": [
        "# importmos las librerias necesarias\n",
        "import requests  # libreria para acceder a paginas web\n",
        "from bs4 import BeautifulSoup  # libreria para manipular el contenido de una pagina web\n",
        "import networkx as nx\n",
        "import numpy as np\n",
        "import matplotlib.pyplot as plt\n",
        "import pandas as pd"
      ]
    },
    {
      "cell_type": "code",
      "source": [
        "# creamos las variables donde guardaremos la información\n",
        "\n",
        "# grafo directo que representará la red de paginas\n",
        "G = nx.DiGraph()\n",
        "# diccionario para almacenar cada url con su codigo numerico (hash) \n",
        "pages = {}\n",
        "# diccionario para almacenar las relaciones entre las paginas\n",
        "relations = {}"
      ],
      "metadata": {
        "id": "tzmYFTMGFA_r"
      },
      "execution_count": null,
      "outputs": []
    },
    {
      "cell_type": "code",
      "source": [
        "# función que asigna a cada cadena de texto un valor numerico único (hash)\n",
        "def hash(s):\n",
        "    h = 0;\n",
        "    for i in s:\n",
        "        h = 131 * h + ord(i)\n",
        "    return h"
      ],
      "metadata": {
        "id": "CXL9il78HbjV"
      },
      "execution_count": null,
      "outputs": []
    },
    {
      "cell_type": "code",
      "source": [
        "# pagina web de la Wikipedia que será usada como base para obtener el resto de \n",
        "# paginas y sus relaciones\n",
        "root = 'https://en.wikipedia.org/wiki/Machine_learning'\n",
        "wiki_hash = hash(root)\n",
        "wiki_hash"
      ],
      "metadata": {
        "colab": {
          "base_uri": "https://localhost:8080/"
        },
        "id": "tmFfETEMHzR8",
        "outputId": "2cb8f64f-f596-4641-8a16-6c4b9756b2ea"
      },
      "execution_count": null,
      "outputs": [
        {
          "output_type": "execute_result",
          "data": {
            "text/plain": [
              "6439427782865357410"
            ]
          },
          "metadata": {},
          "execution_count": 15
        }
      ]
    },
    {
      "cell_type": "code",
      "source": [
        "def crawler(url):\n",
        "  \"\"\"\n",
        "  Dada la url de una pagina web de la Wikipedia, se extraen todos los enlaces \n",
        "  en la pagina a otras del mismo sitio y se almacenan.\n",
        "  \"\"\"\n",
        "\n",
        "  try:\n",
        "    # intentamos acceder a la pagina con la url recivida\n",
        "    response = requests.get(url)\n",
        "  except requests.exceptions.ConnectionError:\n",
        "    print('Given URL: %s is not available'% url)\n",
        "    return\n",
        "  \n",
        "  # creamos el hash asociado a esta url\n",
        "  page_hash = hash(url)\n",
        "  content = BeautifulSoup(response.text, 'html')\n",
        "  main = content.find(\"div\", {\"id\": \"mw-content-text\"})\n",
        "  try:\n",
        "    # obtnemos todos los links en el contenido central de la página\n",
        "    links = main.findAll('a', href= True)\n",
        "    base = 'https://en.wikipedia.org'\n",
        "\n",
        "    # iteramos sobre cada uno de estos enlaces\n",
        "    for i in links[:int(len(links)/4)]:\n",
        "      # se almacena la url a la pagina de destino\n",
        "      child_url = i['href']\n",
        "\n",
        "      # se filtran y corrigen las urls para quedarse solo con las que\n",
        "      # referencian a otras paginas de la wikipedia\n",
        "      if child_url[0] == '#':\n",
        "        continue\n",
        "      elif child_url[0] == '/':\n",
        "        child_url = base + child_url\n",
        "      if '/wiki/' not in child_url:\n",
        "        continue\n",
        "      \n",
        "      # se guarda el hash de la url\n",
        "      child_hash = hash(child_url)\n",
        "      if child_hash not in pages:\n",
        "        pages[child_hash] = child_url\n",
        "\n",
        "      # se guarda la relación entre las paginas\n",
        "      if page_hash in relations:\n",
        "        relations[page_hash].append(child_hash)\n",
        "      else:\n",
        "        relations[page_hash] = [child_hash]\n",
        "\n",
        "  except:\n",
        "    return"
      ],
      "metadata": {
        "id": "7DrzJpqXzJEi"
      },
      "execution_count": null,
      "outputs": []
    },
    {
      "cell_type": "code",
      "source": [
        "# ejecutamos la función anterior sobre la pagina tomada como base\n",
        "pages[wiki_hash] = root\n",
        "crawler(root)"
      ],
      "metadata": {
        "id": "Lg2MmR-Qz-J8"
      },
      "execution_count": null,
      "outputs": []
    },
    {
      "cell_type": "code",
      "source": [
        "# se muestra el número de paginas recorridas\n",
        "len(list(pages.keys()))"
      ],
      "metadata": {
        "colab": {
          "base_uri": "https://localhost:8080/"
        },
        "id": "PUW4t_2IdoWh",
        "outputId": "10bc36e8-8f40-4d86-bb01-1031c5bfe62f"
      },
      "execution_count": null,
      "outputs": [
        {
          "output_type": "execute_result",
          "data": {
            "text/plain": [
              "7935"
            ]
          },
          "metadata": {},
          "execution_count": 47
        }
      ]
    },
    {
      "cell_type": "code",
      "source": [
        "# y las relaciones encontradas\n",
        "len(relations[wiki_hash])"
      ],
      "metadata": {
        "colab": {
          "base_uri": "https://localhost:8080/"
        },
        "id": "T6I1J16ZO7mq",
        "outputId": "180f100d-79f2-4020-9172-da20e0359f73"
      },
      "execution_count": null,
      "outputs": [
        {
          "output_type": "execute_result",
          "data": {
            "text/plain": [
              "286"
            ]
          },
          "metadata": {},
          "execution_count": 40
        }
      ]
    },
    {
      "cell_type": "code",
      "source": [
        "# ahora se repite el proceso para cada una de las paginas a las que esta conectada\n",
        "# la pagina base\n",
        "for x in relations[wiki_hash]:\n",
        "  crawler(pages[x])"
      ],
      "metadata": {
        "id": "R_ZFj2syQfsT"
      },
      "execution_count": null,
      "outputs": []
    },
    {
      "cell_type": "code",
      "source": [
        "# con esta información se crea el grafo\n",
        "G = nx.DiGraph()\n",
        "keys = list(relations.keys())\n",
        "for key in keys:\n",
        "  for link in relations[key]:\n",
        "    G.add_edge(key, link)"
      ],
      "metadata": {
        "colab": {
          "base_uri": "https://localhost:8080/"
        },
        "id": "MgAJ0TN2TYB-",
        "outputId": "56b3d9bc-9ac2-4a26-c4dc-b949e6e90195"
      },
      "execution_count": null,
      "outputs": [
        {
          "output_type": "stream",
          "name": "stdout",
          "text": [
            "key 1 of 226\n",
            "key 2 of 226\n",
            "key 3 of 226\n",
            "key 4 of 226\n",
            "key 5 of 226\n",
            "key 6 of 226\n",
            "key 7 of 226\n",
            "key 8 of 226\n",
            "key 9 of 226\n",
            "key 10 of 226\n",
            "key 11 of 226\n",
            "key 12 of 226\n",
            "key 13 of 226\n",
            "key 14 of 226\n",
            "key 15 of 226\n",
            "key 16 of 226\n",
            "key 17 of 226\n",
            "key 18 of 226\n",
            "key 19 of 226\n",
            "key 20 of 226\n",
            "key 21 of 226\n",
            "key 22 of 226\n",
            "key 23 of 226\n",
            "key 24 of 226\n",
            "key 25 of 226\n",
            "key 26 of 226\n",
            "key 27 of 226\n",
            "key 28 of 226\n",
            "key 29 of 226\n",
            "key 30 of 226\n",
            "key 31 of 226\n",
            "key 32 of 226\n",
            "key 33 of 226\n",
            "key 34 of 226\n",
            "key 35 of 226\n",
            "key 36 of 226\n",
            "key 37 of 226\n",
            "key 38 of 226\n",
            "key 39 of 226\n",
            "key 40 of 226\n",
            "key 41 of 226\n",
            "key 42 of 226\n",
            "key 43 of 226\n",
            "key 44 of 226\n",
            "key 45 of 226\n",
            "key 46 of 226\n",
            "key 47 of 226\n",
            "key 48 of 226\n",
            "key 49 of 226\n",
            "key 50 of 226\n",
            "key 51 of 226\n",
            "key 52 of 226\n",
            "key 53 of 226\n",
            "key 54 of 226\n",
            "key 55 of 226\n",
            "key 56 of 226\n",
            "key 57 of 226\n",
            "key 58 of 226\n",
            "key 59 of 226\n",
            "key 60 of 226\n",
            "key 61 of 226\n",
            "key 62 of 226\n",
            "key 63 of 226\n",
            "key 64 of 226\n",
            "key 65 of 226\n",
            "key 66 of 226\n",
            "key 67 of 226\n",
            "key 68 of 226\n",
            "key 69 of 226\n",
            "key 70 of 226\n",
            "key 71 of 226\n",
            "key 72 of 226\n",
            "key 73 of 226\n",
            "key 74 of 226\n",
            "key 75 of 226\n",
            "key 76 of 226\n",
            "key 77 of 226\n",
            "key 78 of 226\n",
            "key 79 of 226\n",
            "key 80 of 226\n",
            "key 81 of 226\n",
            "key 82 of 226\n",
            "key 83 of 226\n",
            "key 84 of 226\n",
            "key 85 of 226\n",
            "key 86 of 226\n",
            "key 87 of 226\n",
            "key 88 of 226\n",
            "key 89 of 226\n",
            "key 90 of 226\n",
            "key 91 of 226\n",
            "key 92 of 226\n",
            "key 93 of 226\n",
            "key 94 of 226\n",
            "key 95 of 226\n",
            "key 96 of 226\n",
            "key 97 of 226\n",
            "key 98 of 226\n",
            "key 99 of 226\n",
            "key 100 of 226\n",
            "key 101 of 226\n",
            "key 102 of 226\n",
            "key 103 of 226\n",
            "key 104 of 226\n",
            "key 105 of 226\n",
            "key 106 of 226\n",
            "key 107 of 226\n",
            "key 108 of 226\n",
            "key 109 of 226\n",
            "key 110 of 226\n",
            "key 111 of 226\n",
            "key 112 of 226\n",
            "key 113 of 226\n",
            "key 114 of 226\n",
            "key 115 of 226\n",
            "key 116 of 226\n",
            "key 117 of 226\n",
            "key 118 of 226\n",
            "key 119 of 226\n",
            "key 120 of 226\n",
            "key 121 of 226\n",
            "key 122 of 226\n",
            "key 123 of 226\n",
            "key 124 of 226\n",
            "key 125 of 226\n",
            "key 126 of 226\n",
            "key 127 of 226\n",
            "key 128 of 226\n",
            "key 129 of 226\n",
            "key 130 of 226\n",
            "key 131 of 226\n",
            "key 132 of 226\n",
            "key 133 of 226\n",
            "key 134 of 226\n",
            "key 135 of 226\n",
            "key 136 of 226\n",
            "key 137 of 226\n",
            "key 138 of 226\n",
            "key 139 of 226\n",
            "key 140 of 226\n",
            "key 141 of 226\n",
            "key 142 of 226\n",
            "key 143 of 226\n",
            "key 144 of 226\n",
            "key 145 of 226\n",
            "key 146 of 226\n",
            "key 147 of 226\n",
            "key 148 of 226\n",
            "key 149 of 226\n",
            "key 150 of 226\n",
            "key 151 of 226\n",
            "key 152 of 226\n",
            "key 153 of 226\n",
            "key 154 of 226\n",
            "key 155 of 226\n",
            "key 156 of 226\n",
            "key 157 of 226\n",
            "key 158 of 226\n",
            "key 159 of 226\n",
            "key 160 of 226\n",
            "key 161 of 226\n",
            "key 162 of 226\n",
            "key 163 of 226\n",
            "key 164 of 226\n",
            "key 165 of 226\n",
            "key 166 of 226\n",
            "key 167 of 226\n",
            "key 168 of 226\n",
            "key 169 of 226\n",
            "key 170 of 226\n",
            "key 171 of 226\n",
            "key 172 of 226\n",
            "key 173 of 226\n",
            "key 174 of 226\n",
            "key 175 of 226\n",
            "key 176 of 226\n",
            "key 177 of 226\n",
            "key 178 of 226\n",
            "key 179 of 226\n",
            "key 180 of 226\n",
            "key 181 of 226\n",
            "key 182 of 226\n",
            "key 183 of 226\n",
            "key 184 of 226\n",
            "key 185 of 226\n",
            "key 186 of 226\n",
            "key 187 of 226\n",
            "key 188 of 226\n",
            "key 189 of 226\n",
            "key 190 of 226\n",
            "key 191 of 226\n",
            "key 192 of 226\n",
            "key 193 of 226\n",
            "key 194 of 226\n",
            "key 195 of 226\n",
            "key 196 of 226\n",
            "key 197 of 226\n",
            "key 198 of 226\n",
            "key 199 of 226\n",
            "key 200 of 226\n",
            "key 201 of 226\n",
            "key 202 of 226\n",
            "key 203 of 226\n",
            "key 204 of 226\n",
            "key 205 of 226\n",
            "key 206 of 226\n",
            "key 207 of 226\n",
            "key 208 of 226\n",
            "key 209 of 226\n",
            "key 210 of 226\n",
            "key 211 of 226\n",
            "key 212 of 226\n",
            "key 213 of 226\n",
            "key 214 of 226\n",
            "key 215 of 226\n",
            "key 216 of 226\n",
            "key 217 of 226\n",
            "key 218 of 226\n",
            "key 219 of 226\n",
            "key 220 of 226\n",
            "key 221 of 226\n",
            "key 222 of 226\n",
            "key 223 of 226\n",
            "key 224 of 226\n",
            "key 225 of 226\n",
            "key 226 of 226\n"
          ]
        }
      ]
    },
    {
      "cell_type": "code",
      "source": [
        "G.number_of_nodes()"
      ],
      "metadata": {
        "colab": {
          "base_uri": "https://localhost:8080/"
        },
        "id": "IMWKHvziZC4X",
        "outputId": "0507012c-0ead-4c99-9f5f-f707a7012af9"
      },
      "execution_count": null,
      "outputs": [
        {
          "output_type": "execute_result",
          "data": {
            "text/plain": [
              "7935"
            ]
          },
          "metadata": {},
          "execution_count": 43
        }
      ]
    },
    {
      "cell_type": "code",
      "source": [
        "G.number_of_edges()"
      ],
      "metadata": {
        "colab": {
          "base_uri": "https://localhost:8080/"
        },
        "id": "Pg3F-UpGZEso",
        "outputId": "7987bfc2-13d5-42ee-9b27-c0bd205fd5cc"
      },
      "execution_count": null,
      "outputs": [
        {
          "output_type": "execute_result",
          "data": {
            "text/plain": [
              "19680"
            ]
          },
          "metadata": {},
          "execution_count": 44
        }
      ]
    },
    {
      "cell_type": "code",
      "source": [
        "def getRank(tr_mat,N, treshold):\n",
        "  pi_0 = np.array([1/N for i in range(N)])\n",
        "  pi_last = pi_0\n",
        "  pi_next = np.matmul(pi_0, tr_mat)\n",
        "  while np.linalg.norm(pi_next-pi_last) > treshold:\n",
        "    pi_last = pi_next\n",
        "    pi_next = np.matmul(pi_last, tr_mat)\n",
        "  return pi_next\n",
        "\n",
        "def pageRank(links, graph = None, threshold = 0.1, alpha = 0.15): \n",
        "  if graph is None:\n",
        "    G = nx.DiGraph()\n",
        "    G.add_edges_from(links)\n",
        "  else:\n",
        "    G = graph\n",
        "\n",
        "  nodes = list(G.nodes)\n",
        "  N = len(nodes)\n",
        "  P = np.zeros((N,N))\n",
        "\n",
        "  \n",
        "  for i in range(N):\n",
        "    nbrs = list(G.neighbors(nodes[i]))\n",
        "    n = len(nbrs)\n",
        "    for j in range(N):\n",
        "      if nodes[j] in nbrs:\n",
        "        P[i][j] = 1 / n\n",
        "      else:\n",
        "        P[i][j] = 0\n",
        "\n",
        "  P = (1-alpha)*P + (alpha / N)*np.ones((N,N))\n",
        "   \n",
        "  stationary = getRank(P, N, threshold)\n",
        "  return {\n",
        "      'ranking': pd.Series(stationary, index = nodes).sort_values(ascending=False),\n",
        "      'matrix': pd.DataFrame(P, nodes, nodes),\n",
        "      'graph': G\n",
        "  }"
      ],
      "metadata": {
        "id": "d2ucBvWywrVI"
      },
      "execution_count": null,
      "outputs": []
    },
    {
      "cell_type": "code",
      "source": [
        "# Finalmente se aplica el algoritmo desarrollado a el grafo creado con la información\n",
        "# recuperada\n",
        "result = pageRank(None, graph = G)"
      ],
      "metadata": {
        "id": "Z72l-J-QWo8B"
      },
      "execution_count": null,
      "outputs": []
    },
    {
      "cell_type": "code",
      "source": [
        "# se muestra el top 10 del ranking \n",
        "rank = result['ranking']\n",
        "top_10 = rank[:10]\n",
        "index = [pages[i] for i in list(top_10.index)]\n",
        "top_10.index = index\n",
        "top_10"
      ],
      "metadata": {
        "colab": {
          "base_uri": "https://localhost:8080/"
        },
        "id": "8SceZGAyW4Fz",
        "outputId": "9df4198e-694a-4f54-9083-66b0961b945c"
      },
      "execution_count": null,
      "outputs": [
        {
          "output_type": "execute_result",
          "data": {
            "text/plain": [
              "https://en.wikipedia.org/wiki/Machine_learning              0.000267\n",
              "https://en.wikipedia.org/wiki/Artificial_neural_network     0.000178\n",
              "https://commons.wikimedia.org/wiki/Main_Page                0.000163\n",
              "https://en.wikipedia.org/wiki/Statistical_classification    0.000162\n",
              "https://en.wikipedia.org/wiki/Perceptron                    0.000156\n",
              "https://en.wikipedia.org/wiki/Supervised_learning           0.000155\n",
              "https://en.wikipedia.org/wiki/Data_mining                   0.000153\n",
              "https://en.wikipedia.org/wiki/Regression_analysis           0.000151\n",
              "https://en.wikipedia.org/wiki/Unsupervised_learning         0.000145\n",
              "https://en.wikipedia.org/wiki/Cluster_analysis              0.000143\n",
              "dtype: float64"
            ]
          },
          "metadata": {},
          "execution_count": 46
        }
      ]
    },
    {
      "cell_type": "code",
      "source": [
        ""
      ],
      "metadata": {
        "id": "i0fiPliFWNdZ"
      },
      "execution_count": null,
      "outputs": []
    }
  ]
}